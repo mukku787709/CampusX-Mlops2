{
  "nbformat": 4,
  "nbformat_minor": 0,
  "metadata": {
    "colab": {
      "provenance": [],
      "authorship_tag": "ABX9TyPbs1Xr91v9r5IEPsjhQcnq",
      "include_colab_link": true
    },
    "kernelspec": {
      "name": "python3",
      "display_name": "Python 3"
    },
    "language_info": {
      "name": "python"
    }
  },
  "cells": [
    {
      "cell_type": "markdown",
      "metadata": {
        "id": "view-in-github",
        "colab_type": "text"
      },
      "source": [
        "<a href=\"https://colab.research.google.com/github/mukku787709/CampusX-Mlops2/blob/main/Convolution_from_scratch.ipynb\" target=\"_parent\"><img src=\"https://colab.research.google.com/assets/colab-badge.svg\" alt=\"Open In Colab\"/></a>"
      ]
    },
    {
      "cell_type": "code",
      "execution_count": null,
      "metadata": {
        "colab": {
          "base_uri": "https://localhost:8080/"
        },
        "id": "ZLQsX4zZOGkz",
        "outputId": "fe11ce7e-7fd7-48d8-d4f6-4216c7e749d0"
      },
      "outputs": [
        {
          "output_type": "stream",
          "name": "stdout",
          "text": [
            "convolution Output:\n",
            " [[12.  0. -2.]\n",
            " [14. 15.  5.]\n",
            " [ 7. -2. 11.]]\n"
          ]
        }
      ],
      "source": [
        "import numpy as np\n",
        "image = np.array([\n",
        "    [1,2,3,0,1],\n",
        "    [0,1,2,3,2],\n",
        "    [3,0,1,2,1],\n",
        "    [2,1,3,0,1],\n",
        "    [1,2,0,1,2]\n",
        "])\n",
        "image.shape\n",
        "\n",
        "kernel = np.array([\n",
        "    [0,1,4],\n",
        "    [1,-4,1],\n",
        "    [0,1,0]\n",
        "])\n",
        "\n",
        "def convolve(image,kernel):\n",
        "  image_h,image_w = image.shape\n",
        "  kernel_h,kernel_w = kernel.shape\n",
        "  output_h =  image_h - kernel_h + 1\n",
        "  output_w = image_w - kernel_w +1\n",
        "  output = np.zeros((output_h,output_w))\n",
        "\n",
        "  for i in range(output_h):\n",
        "    for j in range(output_w):\n",
        "      output[i,j] = np.sum(image[i:i+kernel_h,j:j+kernel_w] * kernel)\n",
        "\n",
        "  return output\n",
        "\n",
        "output = convolve(image,kernel)\n",
        "print(\"convolution Output:\\n\",output)"
      ]
    },
    {
      "cell_type": "code",
      "source": [
        "padding =1\n",
        "output - 5*5"
      ],
      "metadata": {
        "colab": {
          "base_uri": "https://localhost:8080/"
        },
        "id": "GNLgN1JyOctv",
        "outputId": "545b0ced-3cb5-4223-90c0-c98d486e4183"
      },
      "execution_count": null,
      "outputs": [
        {
          "output_type": "execute_result",
          "data": {
            "text/plain": [
              "array([[-13., -25., -27.],\n",
              "       [-11., -10., -20.],\n",
              "       [-18., -27., -14.]])"
            ]
          },
          "metadata": {},
          "execution_count": 4
        }
      ]
    },
    {
      "cell_type": "code",
      "source": [
        "# Adding padding\n",
        "def pad_image(image, pad):\n",
        "    return np.pad(image, pad, mode='constant', constant_values=0) # zero padding\n",
        "\n",
        "pad_image(image, 1)"
      ],
      "metadata": {
        "colab": {
          "base_uri": "https://localhost:8080/"
        },
        "id": "4ZEs0f1Db6E-",
        "outputId": "f6fbe128-02f3-450a-c9b2-dd8608e581d2"
      },
      "execution_count": 24,
      "outputs": [
        {
          "output_type": "execute_result",
          "data": {
            "text/plain": [
              "array([[0, 0, 0, 0, 0, 0, 0],\n",
              "       [0, 1, 2, 3, 0, 1, 0],\n",
              "       [0, 0, 1, 2, 3, 2, 0],\n",
              "       [0, 3, 0, 1, 2, 1, 0],\n",
              "       [0, 2, 1, 3, 0, 0, 0],\n",
              "       [0, 1, 2, 0, 1, 2, 0],\n",
              "       [0, 0, 0, 0, 0, 0, 0]])"
            ]
          },
          "metadata": {},
          "execution_count": 24
        }
      ]
    },
    {
      "cell_type": "code",
      "source": [
        "# Adding padding\n",
        "def pad_image(image, pad):\n",
        "    return np.pad(image, pad, mode='constant', constant_values=0) # zero padding\n",
        "\n",
        "# Modify convolution to include stride and padding\n",
        "def convolve_with_padding_and_stride(image, kernel, stride=1, padding=0):\n",
        "    if padding > 0:\n",
        "        image = pad_image(image, padding)\n",
        "\n",
        "    image_h, image_w = image.shape\n",
        "    kernel_h, kernel_w = kernel.shape[:2]\n",
        "    output_h = (image_h - kernel_h) // stride + 1\n",
        "    output_w = (image_w - kernel_w) // stride + 1\n",
        "    output = np.zeros((output_h, output_w))\n",
        "\n",
        "    for i in range(0, output_h * stride, stride):\n",
        "        for j in range(0, output_w * stride, stride):\n",
        "            output[i // stride, j // stride] = np.sum(\n",
        "                image[i:i+kernel_h, j:j+kernel_w] * kernel\n",
        "            )\n",
        "\n",
        "    return output\n",
        "\n",
        "# Define a simple 5x5 grayscale image\n",
        "image = np.array([\n",
        "    [1, 2, 3, 0, 1],\n",
        "    [0, 1, 2, 3, 2],\n",
        "    [3, 0, 1, 2, 1],\n",
        "    [2, 1, 3, 0, 0],\n",
        "    [1, 2, 0, 1, 2]\n",
        "])\n",
        "\n",
        "# Apply the convolution with padding and stride\n",
        "padded_output = convolve_with_padding_and_stride(image, kernel, stride=1, padding=1)\n",
        "print(\"Padded Convolution Output:\\n\", padded_output)\n"
      ],
      "metadata": {
        "colab": {
          "base_uri": "https://localhost:8080/"
        },
        "id": "8Z5gRoLyP5x1",
        "outputId": "18773450-84f6-4e34-a2b3-f71458438d4b"
      },
      "execution_count": 38,
      "outputs": [
        {
          "output_type": "stream",
          "name": "stdout",
          "text": [
            "Padded Convolution Output:\n",
            " [[ 4. 10.  9. 18.  6.]\n",
            " [12. 15. 18. 15. 10.]\n",
            " [ 3. 19. 18. 15. 10.]\n",
            " [10. 18.  6. 16.  9.]\n",
            " [ 8.  7. 13.  6.  0.]]\n"
          ]
        }
      ]
    },
    {
      "cell_type": "code",
      "source": [
        "def max_pooling(image,pool_size,stride):\n",
        "   image_h,image_w = image.shape\n",
        "   output_h = (image_h - pool_size)//stride +1\n",
        "   output_w = (image_w -pool_size)//stride +1\n",
        "   output = np.zeros((output_h,output_w))\n",
        "\n",
        "\n",
        "   for i in range(0,output_h * stride,stride):\n",
        "      for j in range(0,output_w * stride,stride):\n",
        "        output[i//stride,j//stride] = np.sum(\n",
        "            image[i:i+pool_size,j:j+pool_size]\n",
        "        )\n",
        "   return output\n",
        "\n",
        "   image = np.array([\n",
        "      [1,2,3,0,1],\n",
        "      [0,1,2,3,2],\n",
        "      [3,0,1,2,1],\n",
        "      [2,1,3,0,0],\n",
        "      [1,2,0,1,2]\n",
        "  ])\n",
        "\n",
        "\n",
        "pooled_output = max_pooling(image,pool_size=2,stride=2)\n",
        "print(\"Max Polling Output:/n\",pooled_output)\n",
        "\n",
        "\n"
      ],
      "metadata": {
        "colab": {
          "base_uri": "https://localhost:8080/"
        },
        "id": "ODlvQfx0SDzl",
        "outputId": "44cf1f28-bab0-41db-c931-459a4ca83db3"
      },
      "execution_count": 39,
      "outputs": [
        {
          "output_type": "stream",
          "name": "stdout",
          "text": [
            "Max Polling Output:/n [[4. 8.]\n",
            " [6. 6.]]\n"
          ]
        }
      ]
    },
    {
      "cell_type": "code",
      "source": [
        "import numpy as np\n",
        "image = np.array([\n",
        "    [[1,0,2],[2,1,1],[3,2,0],[0,1,1],[1,0,2]],\n",
        "    [[0,1,0],[1,0,1],[2,2,2],[3,1,3],[2,0,1]],\n",
        "    [[3,0,2],[0,1,0],[1,0,1],[2,2,2],[1,0,0]],\n",
        "    [[2,1,1],[1,0,2],[3,3,1],[0,1,0],[0,2,1]],\n",
        "    [[1,2,2],[2,1,0],[0,0,1],[1,2,2],[2,1,1]]\n",
        "])\n",
        "\n",
        "image.shape"
      ],
      "metadata": {
        "colab": {
          "base_uri": "https://localhost:8080/"
        },
        "id": "8T_nxfdcTGrN",
        "outputId": "1a0ce715-e769-4fc9-becc-bcc4c16b5fa3"
      },
      "execution_count": 40,
      "outputs": [
        {
          "output_type": "execute_result",
          "data": {
            "text/plain": [
              "(5, 5, 3)"
            ]
          },
          "metadata": {},
          "execution_count": 40
        }
      ]
    },
    {
      "cell_type": "code",
      "source": [
        "kernel = np.array([\n",
        "    [[0,1,0],[1,-1,1],[0,1,0]],\n",
        "    [[1,0,1],[0,-1,0],[1,0,1]],\n",
        "    [[0,1,0],[1,1,1],[0,1,0]]\n",
        "])\n",
        "\n",
        "kernel.shape"
      ],
      "metadata": {
        "colab": {
          "base_uri": "https://localhost:8080/"
        },
        "id": "aiMtj0ADT34_",
        "outputId": "5c9084fb-d17c-4c37-97f8-14b1affe65f3"
      },
      "execution_count": 41,
      "outputs": [
        {
          "output_type": "execute_result",
          "data": {
            "text/plain": [
              "(3, 3, 3)"
            ]
          },
          "metadata": {},
          "execution_count": 41
        }
      ]
    },
    {
      "cell_type": "code",
      "source": [
        "image_h,image_w,image_c = image.shape\n",
        "\n",
        "print(image_h,image_w,image_c)\n",
        "kernel_h,kernel_w,kernel_c = kernel.shape\n",
        "print(kernel_h,kernel_w,kernel_c)\n",
        "output_h = image_h - kernel_h + 1\n",
        "output_w = image_w - kernel_w + 1\n",
        "output = np.zeros((output_h,output_w,1))\n",
        "output.shape\n"
      ],
      "metadata": {
        "colab": {
          "base_uri": "https://localhost:8080/"
        },
        "id": "fg5ubaaiUYmQ",
        "outputId": "7e8717a7-6e3d-45d8-b739-47f634b65379"
      },
      "execution_count": 42,
      "outputs": [
        {
          "output_type": "stream",
          "name": "stdout",
          "text": [
            "5 5 3\n",
            "3 3 3\n"
          ]
        },
        {
          "output_type": "execute_result",
          "data": {
            "text/plain": [
              "(3, 3, 1)"
            ]
          },
          "metadata": {},
          "execution_count": 42
        }
      ]
    },
    {
      "cell_type": "code",
      "source": [
        "for k in range(image_c):\n",
        "        for i in range(output_h):\n",
        "          for j in range(output_w):\n",
        "            output[i,j] = np.sum(image[i:i+kernel_h,j:j+kernel_w,k] * kernel)\n",
        "\n",
        "output"
      ],
      "metadata": {
        "colab": {
          "base_uri": "https://localhost:8080/"
        },
        "id": "mbrWkNT1VApp",
        "outputId": "4d6400b8-b9e9-4508-eb78-71433513942d"
      },
      "execution_count": 43,
      "outputs": [
        {
          "output_type": "execute_result",
          "data": {
            "text/plain": [
              "array([[[10.],\n",
              "        [12.],\n",
              "        [12.]],\n",
              "\n",
              "       [[16.],\n",
              "        [15.],\n",
              "        [11.]],\n",
              "\n",
              "       [[ 8.],\n",
              "        [11.],\n",
              "        [15.]]])"
            ]
          },
          "metadata": {},
          "execution_count": 43
        }
      ]
    },
    {
      "cell_type": "code",
      "source": [
        "import numpy as np\n",
        "image = np.array([\n",
        "    [[1,0,2],[2,1,1],[3,2,0],[0,1,1],[1,0,2]],\n",
        "    [[0,1,0],[1,0,1],[2,2,2],[3,1,3],[2,0,1]],\n",
        "    [[3,0,2],[0,1,0],[1,0,1],[2,2,2],[1,0,0]],\n",
        "    [[2,1,1],[1,0,2],[3,3,1],[0,1,0],[0,2,1]],\n",
        "    [[1,2,2],[2,1,0],[0,0,1],[1,2,2],[2,1,1]]\n",
        "])\n",
        "\n",
        "image.shape\n",
        "\n",
        "kernel = np.array([\n",
        "    [[0,1,0],[1,-1,1],[0,1,0]],\n",
        "    [[1,0,1],[0,-1,0],[1,0,1]],\n",
        "    [[0,1,0],[1,1,1],[0,1,0]]\n",
        "])\n",
        "\n",
        "kernel.shape\n",
        "\n",
        "def convolve_rgb(image,kernel):\n",
        "  image_h,image_w,image_c = image.shape\n",
        "  kernel_h,kernel_w,kernel_c = kernel.shape\n",
        "  output_h = image_h - kernel_h + 1\n",
        "  output_w = image_w - kernel_w + 1\n",
        "  output = np.zeros((output_h,output_w,1))\n",
        "  output.shape\n",
        "\n",
        "  for k in range(image_c):\n",
        "        for i in range(output_h):\n",
        "          for j in range(output_w):\n",
        "            output[i,j] = np.sum(image[i:i+kernel_h,j:j+kernel_w,k] * kernel)\n",
        "\n",
        "  return output\n",
        "\n",
        "output = convolve_rgb(image,kernel)\n",
        "print(\"Convolution Output:/n\",output)\n"
      ],
      "metadata": {
        "colab": {
          "base_uri": "https://localhost:8080/"
        },
        "id": "QeMv8M8-Vc3d",
        "outputId": "73cb2cd1-fc27-45c4-e4a8-351298bda49b"
      },
      "execution_count": 44,
      "outputs": [
        {
          "output_type": "stream",
          "name": "stdout",
          "text": [
            "Convolution Output:/n [[[10.]\n",
            "  [12.]\n",
            "  [12.]]\n",
            "\n",
            " [[16.]\n",
            "  [15.]\n",
            "  [11.]]\n",
            "\n",
            " [[ 8.]\n",
            "  [11.]\n",
            "  [15.]]]\n"
          ]
        }
      ]
    },
    {
      "cell_type": "code",
      "source": [
        "import tensorflow as tf\n",
        "from tensorflow.keras import layers,models\n",
        "\n",
        "input_shape =(100,100,3)\n",
        "model = models.Sequential()\n",
        "model.add(layers.Input(shape=input_shape))\n",
        "model.add(layers.Conv2D(16,(3,3),padding='same',strides=1,activation='relu'))\n",
        "model.add(layers.MaxPooling2D(pool_size=(2, 2), strides=2))\n",
        "\n",
        "model.add(layers.Conv2D(32,(3,3),padding='same',strides=1,activation='relu'))\n",
        "model.add(layers.MaxPooling2D(pool_size=(2,2),strides=2))\n",
        "model.summary()"
      ],
      "metadata": {
        "colab": {
          "base_uri": "https://localhost:8080/",
          "height": 257
        },
        "id": "nX3F3PykWTXe",
        "outputId": "b7a136e8-2aab-469d-b07f-f1fc53971a49"
      },
      "execution_count": 45,
      "outputs": [
        {
          "output_type": "display_data",
          "data": {
            "text/plain": [
              "\u001b[1mModel: \"sequential_7\"\u001b[0m\n"
            ],
            "text/html": [
              "<pre style=\"white-space:pre;overflow-x:auto;line-height:normal;font-family:Menlo,'DejaVu Sans Mono',consolas,'Courier New',monospace\"><span style=\"font-weight: bold\">Model: \"sequential_7\"</span>\n",
              "</pre>\n"
            ]
          },
          "metadata": {}
        },
        {
          "output_type": "display_data",
          "data": {
            "text/plain": [
              "┏━━━━━━━━━━━━━━━━━━━━━━━━━━━━━━━━━━━━━━┳━━━━━━━━━━━━━━━━━━━━━━━━━━━━━┳━━━━━━━━━━━━━━━━━┓\n",
              "┃\u001b[1m \u001b[0m\u001b[1mLayer (type)                        \u001b[0m\u001b[1m \u001b[0m┃\u001b[1m \u001b[0m\u001b[1mOutput Shape               \u001b[0m\u001b[1m \u001b[0m┃\u001b[1m \u001b[0m\u001b[1m        Param #\u001b[0m\u001b[1m \u001b[0m┃\n",
              "┡━━━━━━━━━━━━━━━━━━━━━━━━━━━━━━━━━━━━━━╇━━━━━━━━━━━━━━━━━━━━━━━━━━━━━╇━━━━━━━━━━━━━━━━━┩\n",
              "│ conv2d_13 (\u001b[38;5;33mConv2D\u001b[0m)                   │ (\u001b[38;5;45mNone\u001b[0m, \u001b[38;5;34m100\u001b[0m, \u001b[38;5;34m100\u001b[0m, \u001b[38;5;34m16\u001b[0m)        │             \u001b[38;5;34m448\u001b[0m │\n",
              "├──────────────────────────────────────┼─────────────────────────────┼─────────────────┤\n",
              "│ max_pooling2d_11 (\u001b[38;5;33mMaxPooling2D\u001b[0m)      │ (\u001b[38;5;45mNone\u001b[0m, \u001b[38;5;34m50\u001b[0m, \u001b[38;5;34m50\u001b[0m, \u001b[38;5;34m16\u001b[0m)          │               \u001b[38;5;34m0\u001b[0m │\n",
              "├──────────────────────────────────────┼─────────────────────────────┼─────────────────┤\n",
              "│ conv2d_14 (\u001b[38;5;33mConv2D\u001b[0m)                   │ (\u001b[38;5;45mNone\u001b[0m, \u001b[38;5;34m50\u001b[0m, \u001b[38;5;34m50\u001b[0m, \u001b[38;5;34m32\u001b[0m)          │           \u001b[38;5;34m4,640\u001b[0m │\n",
              "├──────────────────────────────────────┼─────────────────────────────┼─────────────────┤\n",
              "│ max_pooling2d_12 (\u001b[38;5;33mMaxPooling2D\u001b[0m)      │ (\u001b[38;5;45mNone\u001b[0m, \u001b[38;5;34m25\u001b[0m, \u001b[38;5;34m25\u001b[0m, \u001b[38;5;34m32\u001b[0m)          │               \u001b[38;5;34m0\u001b[0m │\n",
              "└──────────────────────────────────────┴─────────────────────────────┴─────────────────┘\n"
            ],
            "text/html": [
              "<pre style=\"white-space:pre;overflow-x:auto;line-height:normal;font-family:Menlo,'DejaVu Sans Mono',consolas,'Courier New',monospace\">┏━━━━━━━━━━━━━━━━━━━━━━━━━━━━━━━━━━━━━━┳━━━━━━━━━━━━━━━━━━━━━━━━━━━━━┳━━━━━━━━━━━━━━━━━┓\n",
              "┃<span style=\"font-weight: bold\"> Layer (type)                         </span>┃<span style=\"font-weight: bold\"> Output Shape                </span>┃<span style=\"font-weight: bold\">         Param # </span>┃\n",
              "┡━━━━━━━━━━━━━━━━━━━━━━━━━━━━━━━━━━━━━━╇━━━━━━━━━━━━━━━━━━━━━━━━━━━━━╇━━━━━━━━━━━━━━━━━┩\n",
              "│ conv2d_13 (<span style=\"color: #0087ff; text-decoration-color: #0087ff\">Conv2D</span>)                   │ (<span style=\"color: #00d7ff; text-decoration-color: #00d7ff\">None</span>, <span style=\"color: #00af00; text-decoration-color: #00af00\">100</span>, <span style=\"color: #00af00; text-decoration-color: #00af00\">100</span>, <span style=\"color: #00af00; text-decoration-color: #00af00\">16</span>)        │             <span style=\"color: #00af00; text-decoration-color: #00af00\">448</span> │\n",
              "├──────────────────────────────────────┼─────────────────────────────┼─────────────────┤\n",
              "│ max_pooling2d_11 (<span style=\"color: #0087ff; text-decoration-color: #0087ff\">MaxPooling2D</span>)      │ (<span style=\"color: #00d7ff; text-decoration-color: #00d7ff\">None</span>, <span style=\"color: #00af00; text-decoration-color: #00af00\">50</span>, <span style=\"color: #00af00; text-decoration-color: #00af00\">50</span>, <span style=\"color: #00af00; text-decoration-color: #00af00\">16</span>)          │               <span style=\"color: #00af00; text-decoration-color: #00af00\">0</span> │\n",
              "├──────────────────────────────────────┼─────────────────────────────┼─────────────────┤\n",
              "│ conv2d_14 (<span style=\"color: #0087ff; text-decoration-color: #0087ff\">Conv2D</span>)                   │ (<span style=\"color: #00d7ff; text-decoration-color: #00d7ff\">None</span>, <span style=\"color: #00af00; text-decoration-color: #00af00\">50</span>, <span style=\"color: #00af00; text-decoration-color: #00af00\">50</span>, <span style=\"color: #00af00; text-decoration-color: #00af00\">32</span>)          │           <span style=\"color: #00af00; text-decoration-color: #00af00\">4,640</span> │\n",
              "├──────────────────────────────────────┼─────────────────────────────┼─────────────────┤\n",
              "│ max_pooling2d_12 (<span style=\"color: #0087ff; text-decoration-color: #0087ff\">MaxPooling2D</span>)      │ (<span style=\"color: #00d7ff; text-decoration-color: #00d7ff\">None</span>, <span style=\"color: #00af00; text-decoration-color: #00af00\">25</span>, <span style=\"color: #00af00; text-decoration-color: #00af00\">25</span>, <span style=\"color: #00af00; text-decoration-color: #00af00\">32</span>)          │               <span style=\"color: #00af00; text-decoration-color: #00af00\">0</span> │\n",
              "└──────────────────────────────────────┴─────────────────────────────┴─────────────────┘\n",
              "</pre>\n"
            ]
          },
          "metadata": {}
        },
        {
          "output_type": "display_data",
          "data": {
            "text/plain": [
              "\u001b[1m Total params: \u001b[0m\u001b[38;5;34m5,088\u001b[0m (19.88 KB)\n"
            ],
            "text/html": [
              "<pre style=\"white-space:pre;overflow-x:auto;line-height:normal;font-family:Menlo,'DejaVu Sans Mono',consolas,'Courier New',monospace\"><span style=\"font-weight: bold\"> Total params: </span><span style=\"color: #00af00; text-decoration-color: #00af00\">5,088</span> (19.88 KB)\n",
              "</pre>\n"
            ]
          },
          "metadata": {}
        },
        {
          "output_type": "display_data",
          "data": {
            "text/plain": [
              "\u001b[1m Trainable params: \u001b[0m\u001b[38;5;34m5,088\u001b[0m (19.88 KB)\n"
            ],
            "text/html": [
              "<pre style=\"white-space:pre;overflow-x:auto;line-height:normal;font-family:Menlo,'DejaVu Sans Mono',consolas,'Courier New',monospace\"><span style=\"font-weight: bold\"> Trainable params: </span><span style=\"color: #00af00; text-decoration-color: #00af00\">5,088</span> (19.88 KB)\n",
              "</pre>\n"
            ]
          },
          "metadata": {}
        },
        {
          "output_type": "display_data",
          "data": {
            "text/plain": [
              "\u001b[1m Non-trainable params: \u001b[0m\u001b[38;5;34m0\u001b[0m (0.00 B)\n"
            ],
            "text/html": [
              "<pre style=\"white-space:pre;overflow-x:auto;line-height:normal;font-family:Menlo,'DejaVu Sans Mono',consolas,'Courier New',monospace\"><span style=\"font-weight: bold\"> Non-trainable params: </span><span style=\"color: #00af00; text-decoration-color: #00af00\">0</span> (0.00 B)\n",
              "</pre>\n"
            ]
          },
          "metadata": {}
        }
      ]
    },
    {
      "cell_type": "code",
      "source": [],
      "metadata": {
        "id": "0uLXYT4bdCxB"
      },
      "execution_count": 45,
      "outputs": []
    }
  ]
}